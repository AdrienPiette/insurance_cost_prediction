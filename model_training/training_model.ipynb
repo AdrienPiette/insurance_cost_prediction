{
 "cells": [
  {
   "cell_type": "code",
   "execution_count": 54,
   "metadata": {},
   "outputs": [],
   "source": [
    "from sklearn.preprocessing import StandardScaler\n",
    "from sklearn.preprocessing import MinMaxScaler\n",
    "from sklearn.preprocessing import OneHotEncoder\n",
    "import pandas as pd\n",
    "import numpy as np\n",
    "import pickle\n",
    "from sklearn.linear_model import LogisticRegression\n",
    "from sklearn.neighbors import KNeighborsClassifier\n",
    "from sklearn.svm import SVC\n",
    "from sklearn.ensemble import RandomForestClassifier\n",
    "from sklearn.naive_bayes import GaussianNB\n",
    "from sklearn.neural_network import MLPClassifier\n",
    "from sklearn.metrics import accuracy_score, classification_report\n",
    "from sklearn.preprocessing import StandardScaler\n",
    "from sklearn.model_selection import train_test_split"
   ]
  },
  {
   "cell_type": "code",
   "execution_count": 55,
   "metadata": {},
   "outputs": [],
   "source": [
    "data = pd.read_csv(r'C:\\Users\\pieta\\OneDrive\\Bureau\\insurance_prediction\\insurance_cost_prediction\\data\\insurance.csv')  "
   ]
  },
  {
   "cell_type": "code",
   "execution_count": 56,
   "metadata": {},
   "outputs": [],
   "source": [
    "X = data.drop(['charges'], axis=1)\n",
    "y = data['charges']"
   ]
  },
  {
   "cell_type": "code",
   "execution_count": 57,
   "metadata": {},
   "outputs": [],
   "source": [
    "# Séparer les caractéristiques et la cible\n",
    "X = data.drop(columns=['charges'])  # Remplacez 'charges' par le nom de votre colonne cible\n",
    "y = data['charges']  # Colonne cible\n",
    "\n",
    "# Encodage des colonnes catégoriques\n",
    "label_encoders = {}\n",
    "for col in X.select_dtypes(include=['object']).columns:\n",
    "    le = LabelEncoder()\n",
    "    X[col] = le.fit_transform(X[col])\n",
    "    label_encoders[col] = le\n",
    "\n",
    "# Diviser les données en ensemble d'entraînement et de test\n",
    "X_train, X_test, y_train, y_test = train_test_split(X, y, test_size=0.2, random_state=42)\n",
    "\n",
    "# Mise à l'échelle des caractéristiques\n",
    "scaler = StandardScaler()\n",
    "X_train_scaled = scaler.fit_transform(X_train)\n",
    "X_test_scaled = scaler.transform(X_test)\n",
    "\n",
    "# Save the encoder\n",
    "with open('label_encoders.pkl', 'wb') as file:\n",
    "    pickle.dump(label_encoders, file)\n"
   ]
  },
  {
   "cell_type": "code",
   "execution_count": 58,
   "metadata": {},
   "outputs": [
    {
     "name": "stdout",
     "output_type": "stream",
     "text": [
      "\n",
      "Training Linear Regression...\n",
      "Linear Regression: RMSE = 5799.5871\n",
      "\n",
      "Training Random Forest Regressor...\n",
      "Random Forest Regressor: RMSE = 4571.5015\n",
      "\n",
      "Training SVM Regressor...\n",
      "SVM Regressor: RMSE = 12877.8690\n",
      "\n",
      "Training Neural Network...\n",
      "Neural Network: RMSE = 11019.2523\n",
      "\n",
      "Best model (Random Forest Regressor) saved with RMSE = 4571.5015\n",
      "\n",
      "Regression Results Summary:\n",
      "                     Model          RMSE\n",
      "0        Linear Regression   5799.587091\n",
      "1  Random Forest Regressor   4571.501475\n",
      "2            SVM Regressor  12877.868998\n",
      "3           Neural Network  11019.252265\n"
     ]
    },
    {
     "name": "stderr",
     "output_type": "stream",
     "text": [
      "C:\\Users\\pieta\\AppData\\Local\\Packages\\PythonSoftwareFoundation.Python.3.12_qbz5n2kfra8p0\\LocalCache\\local-packages\\Python312\\site-packages\\sklearn\\neural_network\\_multilayer_perceptron.py:690: ConvergenceWarning: Stochastic Optimizer: Maximum iterations (1000) reached and the optimization hasn't converged yet.\n",
      "  warnings.warn(\n"
     ]
    }
   ],
   "source": [
    "from sklearn.linear_model import LinearRegression\n",
    "from sklearn.ensemble import RandomForestRegressor\n",
    "from sklearn.svm import SVR\n",
    "from sklearn.neural_network import MLPRegressor\n",
    "from sklearn.metrics import mean_squared_error\n",
    "import pickle\n",
    "\n",
    "# Définir les modèles de régression\n",
    "regressors = {\n",
    "    'Linear Regression': LinearRegression(),\n",
    "    'Random Forest Regressor': RandomForestRegressor(random_state=42),\n",
    "    'SVM Regressor': SVR(),\n",
    "    'Neural Network': MLPRegressor(max_iter=1000, random_state=42)\n",
    "}\n",
    "\n",
    "# Entraîner et évaluer les modèles\n",
    "regression_results = []\n",
    "best_model = None\n",
    "best_rmse = float('inf')\n",
    "\n",
    "for model_name, model in regressors.items():\n",
    "    print(f\"\\nTraining {model_name}...\")\n",
    "    try:\n",
    "        model.fit(X_train_scaled, y_train)\n",
    "        y_pred = model.predict(X_test_scaled)\n",
    "        rmse = np.sqrt(mean_squared_error(y_test, y_pred))\n",
    "        regression_results.append({'Model': model_name, 'RMSE': rmse})\n",
    "        print(f\"{model_name}: RMSE = {rmse:.4f}\")\n",
    "        \n",
    "        # Check if this model is the best so far\n",
    "        if rmse < best_rmse:\n",
    "            best_rmse = rmse\n",
    "            best_model = model\n",
    "            best_model_name = model_name\n",
    "    except Exception as e:\n",
    "        print(f\"Error training {model_name}: {e}\")\n",
    "\n",
    "# Save the best model\n",
    "if best_model is not None:\n",
    "    with open('best_model.pkl', 'wb') as file:\n",
    "        pickle.dump(best_model, file)\n",
    "    print(f\"\\nBest model ({best_model_name}) saved with RMSE = {best_rmse:.4f}\")\n",
    "\n",
    "# Résultats\n",
    "regression_results_df = pd.DataFrame(regression_results)\n",
    "print(\"\\nRegression Results Summary:\")\n",
    "print(regression_results_df)\n"
   ]
  },
  {
   "cell_type": "code",
   "execution_count": null,
   "metadata": {},
   "outputs": [],
   "source": []
  }
 ],
 "metadata": {
  "kernelspec": {
   "display_name": "Python 3",
   "language": "python",
   "name": "python3"
  },
  "language_info": {
   "codemirror_mode": {
    "name": "ipython",
    "version": 3
   },
   "file_extension": ".py",
   "mimetype": "text/x-python",
   "name": "python",
   "nbconvert_exporter": "python",
   "pygments_lexer": "ipython3",
   "version": "3.12.8"
  }
 },
 "nbformat": 4,
 "nbformat_minor": 2
}
