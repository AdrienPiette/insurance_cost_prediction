{
 "cells": [
  {
   "cell_type": "code",
   "execution_count": 1,
   "metadata": {},
   "outputs": [],
   "source": [
    "from sklearn.preprocessing import StandardScaler\n",
    "from sklearn.preprocessing import MinMaxScaler\n",
    "from sklearn.preprocessing import LabelEncoder\n",
    "import pandas as pd\n",
    "import numpy as np\n",
    "import pickle\n",
    "from sklearn.linear_model import LogisticRegression\n",
    "from sklearn.neighbors import KNeighborsClassifier\n",
    "from sklearn.svm import SVC\n",
    "from sklearn.ensemble import RandomForestClassifier\n",
    "from sklearn.naive_bayes import GaussianNB\n",
    "from sklearn.neural_network import MLPClassifier\n",
    "from sklearn.metrics import accuracy_score, classification_report\n",
    "from sklearn.preprocessing import StandardScaler\n",
    "from sklearn.model_selection import train_test_split"
   ]
  },
  {
   "cell_type": "code",
   "execution_count": 2,
   "metadata": {},
   "outputs": [],
   "source": [
    "data = pd.read_csv(r'C:\\Users\\pieta\\OneDrive\\Bureau\\insurance_prediction\\insurance_cost_prediction\\data\\insurance.csv')  "
   ]
  },
  {
   "cell_type": "code",
   "execution_count": 10,
   "metadata": {},
   "outputs": [],
   "source": [
    "X = data.drop(['charges'], axis=1)\n",
    "y = data['charges']"
   ]
  },
  {
   "cell_type": "code",
   "execution_count": 11,
   "metadata": {},
   "outputs": [],
   "source": [
    "le = LabelEncoder()\n",
    "\n",
    "for i in X.columns:\n",
    "    if X[i].dtype == 'object':\n",
    "        X[i] = le.fit_transform(X[i])\n",
    "\n",
    "scaler = StandardScaler()\n",
    "\n",
    "X = scaler.fit_transform(X)\n",
    "\n",
    "\n",
    "# save encoder as pkl file\n",
    "\n",
    "with open(r'C:\\Users\\pieta\\OneDrive\\Bureau\\insurance_prediction\\insurance_cost_prediction\\model_training\\encoder.pkl', 'wb') as file:\n",
    "    pickle.dump(le, file)\n"
   ]
  },
  {
   "cell_type": "code",
   "execution_count": 5,
   "metadata": {},
   "outputs": [],
   "source": [
    "X_train, X_test, y_train, y_test = train_test_split(X, y, test_size=0.2, random_state=42)"
   ]
  },
  {
   "cell_type": "code",
   "execution_count": 6,
   "metadata": {},
   "outputs": [
    {
     "name": "stdout",
     "output_type": "stream",
     "text": [
      "Checking the target variable type...\n",
      "560      9193.83850\n",
      "1285     8534.67180\n",
      "1142    27117.99378\n",
      "969      8596.82780\n",
      "486     12475.35130\n",
      "170     13405.39030\n",
      "277      2150.46900\n",
      "1033    13747.87235\n",
      "209      6610.10970\n",
      "947     39047.28500\n",
      "Name: charges, dtype: float64\n",
      "The target variable is continuous. Discretizing into classes...\n",
      "\n",
      "Training Logistic Regression...\n",
      "Logistic Regression: Accuracy = 0.9254\n",
      "              precision    recall  f1-score   support\n",
      "\n",
      "           0       0.95      0.97      0.96       216\n",
      "           1       0.79      0.67      0.72        39\n",
      "           2       0.86      0.92      0.89        13\n",
      "\n",
      "    accuracy                           0.93       268\n",
      "   macro avg       0.87      0.85      0.86       268\n",
      "weighted avg       0.92      0.93      0.92       268\n",
      "\n",
      "\n",
      "Training KNN...\n",
      "KNN: Accuracy = 0.9179\n",
      "              precision    recall  f1-score   support\n",
      "\n",
      "           0       0.95      0.99      0.97       216\n",
      "           1       0.76      0.64      0.69        39\n",
      "           2       0.80      0.62      0.70        13\n",
      "\n",
      "    accuracy                           0.92       268\n",
      "   macro avg       0.83      0.75      0.79       268\n",
      "weighted avg       0.91      0.92      0.91       268\n",
      "\n",
      "\n",
      "Training SVM...\n",
      "SVM: Accuracy = 0.9366\n",
      "              precision    recall  f1-score   support\n",
      "\n",
      "           0       0.95      1.00      0.97       216\n",
      "           1       0.87      0.67      0.75        39\n",
      "           2       0.91      0.77      0.83        13\n",
      "\n",
      "    accuracy                           0.94       268\n",
      "   macro avg       0.91      0.81      0.85       268\n",
      "weighted avg       0.93      0.94      0.93       268\n",
      "\n",
      "\n",
      "Training Random Forest...\n",
      "Random Forest: Accuracy = 0.9328\n",
      "              precision    recall  f1-score   support\n",
      "\n",
      "           0       0.95      0.99      0.97       216\n",
      "           1       0.82      0.69      0.75        39\n",
      "           2       1.00      0.77      0.87        13\n",
      "\n",
      "    accuracy                           0.93       268\n",
      "   macro avg       0.92      0.82      0.86       268\n",
      "weighted avg       0.93      0.93      0.93       268\n",
      "\n",
      "\n",
      "Training Naive Bayes...\n",
      "Naive Bayes: Accuracy = 0.8097\n",
      "              precision    recall  f1-score   support\n",
      "\n",
      "           0       0.95      0.94      0.95       216\n",
      "           1       0.00      0.00      0.00        39\n",
      "           2       0.24      1.00      0.39        13\n",
      "\n",
      "    accuracy                           0.81       268\n",
      "   macro avg       0.40      0.65      0.45       268\n",
      "weighted avg       0.78      0.81      0.78       268\n",
      "\n",
      "\n",
      "Training Neural Network...\n"
     ]
    },
    {
     "name": "stderr",
     "output_type": "stream",
     "text": [
      "C:\\Users\\pieta\\AppData\\Local\\Packages\\PythonSoftwareFoundation.Python.3.12_qbz5n2kfra8p0\\LocalCache\\local-packages\\Python312\\site-packages\\sklearn\\metrics\\_classification.py:1531: UndefinedMetricWarning: Precision is ill-defined and being set to 0.0 in labels with no predicted samples. Use `zero_division` parameter to control this behavior.\n",
      "  _warn_prf(average, modifier, f\"{metric.capitalize()} is\", len(result))\n",
      "C:\\Users\\pieta\\AppData\\Local\\Packages\\PythonSoftwareFoundation.Python.3.12_qbz5n2kfra8p0\\LocalCache\\local-packages\\Python312\\site-packages\\sklearn\\metrics\\_classification.py:1531: UndefinedMetricWarning: Precision is ill-defined and being set to 0.0 in labels with no predicted samples. Use `zero_division` parameter to control this behavior.\n",
      "  _warn_prf(average, modifier, f\"{metric.capitalize()} is\", len(result))\n",
      "C:\\Users\\pieta\\AppData\\Local\\Packages\\PythonSoftwareFoundation.Python.3.12_qbz5n2kfra8p0\\LocalCache\\local-packages\\Python312\\site-packages\\sklearn\\metrics\\_classification.py:1531: UndefinedMetricWarning: Precision is ill-defined and being set to 0.0 in labels with no predicted samples. Use `zero_division` parameter to control this behavior.\n",
      "  _warn_prf(average, modifier, f\"{metric.capitalize()} is\", len(result))\n"
     ]
    },
    {
     "name": "stdout",
     "output_type": "stream",
     "text": [
      "Neural Network: Accuracy = 0.9328\n",
      "              precision    recall  f1-score   support\n",
      "\n",
      "           0       0.95      0.99      0.97       216\n",
      "           1       0.89      0.62      0.73        39\n",
      "           2       0.80      0.92      0.86        13\n",
      "\n",
      "    accuracy                           0.93       268\n",
      "   macro avg       0.88      0.84      0.85       268\n",
      "weighted avg       0.93      0.93      0.93       268\n",
      "\n",
      "\n",
      "Summary of Results:\n",
      "                 Model  Accuracy\n",
      "0  Logistic Regression  0.925373\n",
      "1                  KNN  0.917910\n",
      "2                  SVM  0.936567\n",
      "3        Random Forest  0.932836\n",
      "4          Naive Bayes  0.809701\n",
      "5       Neural Network  0.932836\n"
     ]
    },
    {
     "name": "stderr",
     "output_type": "stream",
     "text": [
      "C:\\Users\\pieta\\AppData\\Local\\Packages\\PythonSoftwareFoundation.Python.3.12_qbz5n2kfra8p0\\LocalCache\\local-packages\\Python312\\site-packages\\sklearn\\neural_network\\_multilayer_perceptron.py:690: ConvergenceWarning: Stochastic Optimizer: Maximum iterations (1000) reached and the optimization hasn't converged yet.\n",
      "  warnings.warn(\n"
     ]
    }
   ],
   "source": [
    "# Vérifiez si la cible est continue\n",
    "print(\"Checking the target variable type...\")\n",
    "print(y_train[:10])  # Exemple de valeurs cibles\n",
    "\n",
    "if np.issubdtype(y_train.dtype, np.number) and not np.array_equal(y_train, y_train.astype(int)):\n",
    "    print(\"The target variable is continuous. Discretizing into classes...\")\n",
    "    \n",
    "    # Discrétisation en classes (par exemple, 3 classes)\n",
    "    y_train_discrete = pd.cut(y_train, bins=3, labels=[0, 1, 2])\n",
    "    y_test_discrete = pd.cut(y_test, bins=3, labels=[0, 1, 2])\n",
    "else:\n",
    "    print(\"The target variable is already discrete.\")\n",
    "    y_train_discrete = y_train\n",
    "    y_test_discrete = y_test\n",
    "\n",
    "# Standardisation des données\n",
    "scaler = StandardScaler()\n",
    "X_train_scaled = scaler.fit_transform(X_train)\n",
    "X_test_scaled = scaler.transform(X_test)\n",
    "\n",
    "# Définition des modèles\n",
    "models = {\n",
    "    'Logistic Regression': LogisticRegression(max_iter=1000),\n",
    "    'KNN': KNeighborsClassifier(),\n",
    "    'SVM': SVC(probability=True),\n",
    "    'Random Forest': RandomForestClassifier(random_state=42),\n",
    "    'Naive Bayes': GaussianNB(),\n",
    "    'Neural Network': MLPClassifier(max_iter=1000, random_state=42)\n",
    "}\n",
    "\n",
    "# Entraînement et évaluation\n",
    "results = []\n",
    "for model_name, model in models.items():\n",
    "    print(f\"\\nTraining {model_name}...\")\n",
    "    try:\n",
    "        model.fit(X_train_scaled, y_train_discrete)  # Entraîner\n",
    "        y_pred = model.predict(X_test_scaled)  # Prédire\n",
    "        acc = accuracy_score(y_test_discrete, y_pred)  # Calculer l'accuracy\n",
    "        results.append({'Model': model_name, 'Accuracy': acc})\n",
    "        \n",
    "        print(f\"{model_name}: Accuracy = {acc:.4f}\")\n",
    "        print(classification_report(y_test_discrete, y_pred))\n",
    "    except Exception as e:\n",
    "        print(f\"Error training {model_name}: {e}\")\n",
    "\n",
    "# Résultats sous forme de tableau\n",
    "results_df = pd.DataFrame(results)\n",
    "print(\"\\nSummary of Results:\")\n",
    "print(results_df)"
   ]
  },
  {
   "cell_type": "code",
   "execution_count": 7,
   "metadata": {},
   "outputs": [
    {
     "data": {
      "image/png": "[encoded data removed]",
      "text/plain": [
       "<Figure size 640x480 with 1 Axes>"
      ]
     },
     "metadata": {},
     "output_type": "display_data"
    }
   ],
   "source": [
    "import matplotlib.pyplot as plt\n",
    "\n",
    "# Plot results\n",
    "plt.bar(results_df['Model'], results_df['Accuracy'])\n",
    "plt.xticks(rotation=45)\n",
    "plt.ylabel(\"Accuracy\")\n",
    "plt.title(\"Model Performance Comparison\")\n",
    "plt.show()"
   ]
  },
  {
   "cell_type": "code",
   "execution_count": 8,
   "metadata": {},
   "outputs": [
    {
     "name": "stdout",
     "output_type": "stream",
     "text": [
      "Best model 'SVM' saved to 'best_model.pkl'\n"
     ]
    }
   ],
   "source": [
    "# save best model to pickel file\n",
    "\n",
    "# Choose the best model\n",
    "\n",
    "best_model_name = results_df.loc[results_df['Accuracy'].idxmax(), 'Model']\n",
    "best_model = models[best_model_name]\n",
    "\n",
    "# Save the best model to a .pkl file\n",
    "with open('best_model.pkl', 'wb') as f:\n",
    "    pickle.dump(best_model, f)\n",
    "\n",
    "print(f\"Best model '{best_model_name}' saved to 'best_model.pkl'\")"
   ]
  }
 ],
 "metadata": {
  "kernelspec": {
   "display_name": "Python 3",
   "language": "python",
   "name": "python3"
  },
  "language_info": {
   "codemirror_mode": {
    "name": "ipython",
    "version": 3
   },
   "file_extension": ".py",
   "mimetype": "text/x-python",
   "name": "python",
   "nbconvert_exporter": "python",
   "pygments_lexer": "ipython3",
   "version": "3.12.8"
  }
 },
 "nbformat": 4,
 "nbformat_minor": 2
}
